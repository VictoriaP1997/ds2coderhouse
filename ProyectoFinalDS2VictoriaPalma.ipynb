{
 "cells": [
  {
   "cell_type": "markdown",
   "id": "6200fbd2",
   "metadata": {},
   "source": [
    "## ANOMALÍAS EN EQUIPOS INDUSTRIALES"
   ]
  },
  {
   "cell_type": "markdown",
   "id": "087e9273",
   "metadata": {},
   "source": [
    "ABSTRACT"
   ]
  },
  {
   "cell_type": "markdown",
   "id": "507b2cb0",
   "metadata": {},
   "source": [
    "Dentro de una industria es esencial realizar seguimiento de las variables. No solo de las que tienen incidencia en resultados financieros sino también en el desempeño de la producción. El área de de mantenimiento realiza mediciones recurrentes para evitar futuros prejuicios de los equipamentos e instalaciones y asi no comprometer la seguridad de los mismos y de las personas dentro del establecimiento.\n",
    "\n",
    "El siguiente dataset ,obtenido desde la página de Kaggle, muestra un registro de variables fisicas (Presión, temperatura, vibración y humedad) en compresores, bombas y turbinas. Los equipos están ubicados en diferentes locaciones dentro de Estados Unidos.\n",
    "\n",
    "El análisis se puede hacer extensivo para el todos los equipos industriales del dataset solo que, en este caso se buscará validar la incidencia de las variables físicas sobre la probabilidad de falla en turbinas.\n"
   ]
  },
  {
   "cell_type": "markdown",
   "id": "3dc80bb6",
   "metadata": {},
   "source": [
    "HIPÓTESIS\n",
    "\n",
    "Se buscará encontrar una relación entre las variables físicas y las veces que ocurrieron fallas en los equipos. \n",
    "Se comprobará si alguna de las variables tiene más incidencia en los eventos de fallas. Como por ejemplo, si valores altos de presión son la principal causa de fallas en bombas. O si una alta temperatura lo es para los compresores. Posteriormente, se desarrollará un modelo de predicción para saber si fallará o no frente a determinados valores de condiciones físicas."
   ]
  },
  {
   "cell_type": "markdown",
   "id": "47e9e14c",
   "metadata": {},
   "source": [
    "### ANÁLISIS DE DATASET"
   ]
  },
  {
   "cell_type": "markdown",
   "id": "9f69bcf8",
   "metadata": {},
   "source": [
    "Se realiza un análisis exploratorio para saber cómo está conformado el dataset, seguido de un análisis estadístico donde se podrá detectar las primeras conclusiones."
   ]
  },
  {
   "cell_type": "code",
   "execution_count": 1,
   "id": "dd132844",
   "metadata": {},
   "outputs": [
    {
     "name": "stdout",
     "output_type": "stream",
     "text": [
      "   temperature   pressure  vibration   humidity   equipment       location  \\\n",
      "0    58.180180  25.029278   0.606516  45.694907     Turbine        Atlanta   \n",
      "1    75.740712  22.954018   2.338095  41.867407  Compressor        Chicago   \n",
      "2    71.358594  27.276830   1.389198  58.954409     Turbine  San Francisco   \n",
      "3    71.616985  32.242921   1.770690  40.565138        Pump        Atlanta   \n",
      "4    66.506832  45.197471   0.345398  43.253795        Pump       New York   \n",
      "\n",
      "   faulty  \n",
      "0     0.0  \n",
      "1     0.0  \n",
      "2     0.0  \n",
      "3     0.0  \n",
      "4     0.0  \n",
      "<class 'pandas.core.frame.DataFrame'>\n",
      "RangeIndex: 7672 entries, 0 to 7671\n",
      "Data columns (total 7 columns):\n",
      " #   Column       Non-Null Count  Dtype  \n",
      "---  ------       --------------  -----  \n",
      " 0   temperature  7672 non-null   float64\n",
      " 1   pressure     7672 non-null   float64\n",
      " 2   vibration    7672 non-null   float64\n",
      " 3   humidity     7672 non-null   float64\n",
      " 4   equipment    7672 non-null   object \n",
      " 5   location     7672 non-null   object \n",
      " 6   faulty       7672 non-null   float64\n",
      "dtypes: float64(5), object(2)\n",
      "memory usage: 419.7+ KB\n",
      "None\n"
     ]
    }
   ],
   "source": [
    "import pandas as pd\n",
    "\n",
    "# Cargar el archivo CSV principal\n",
    "df = pd.read_csv(\"equipment_anomaly_data.csv\")\n",
    "print(df.head())\n",
    "\n",
    "print(df.info())\n"
   ]
  },
  {
   "cell_type": "markdown",
   "id": "2a5ebd6c",
   "metadata": {},
   "source": [
    "ANÁLISIS ESTADÍSTICO"
   ]
  },
  {
   "cell_type": "code",
   "execution_count": 2,
   "id": "aafb08c7",
   "metadata": {},
   "outputs": [
    {
     "data": {
      "text/html": [
       "<div>\n",
       "<style scoped>\n",
       "    .dataframe tbody tr th:only-of-type {\n",
       "        vertical-align: middle;\n",
       "    }\n",
       "\n",
       "    .dataframe tbody tr th {\n",
       "        vertical-align: top;\n",
       "    }\n",
       "\n",
       "    .dataframe thead th {\n",
       "        text-align: right;\n",
       "    }\n",
       "</style>\n",
       "<table border=\"1\" class=\"dataframe\">\n",
       "  <thead>\n",
       "    <tr style=\"text-align: right;\">\n",
       "      <th></th>\n",
       "      <th>temperature</th>\n",
       "      <th>pressure</th>\n",
       "      <th>vibration</th>\n",
       "      <th>humidity</th>\n",
       "      <th>faulty</th>\n",
       "    </tr>\n",
       "  </thead>\n",
       "  <tbody>\n",
       "    <tr>\n",
       "      <th>count</th>\n",
       "      <td>2565.000000</td>\n",
       "      <td>2565.000000</td>\n",
       "      <td>2565.000000</td>\n",
       "      <td>2565.000000</td>\n",
       "      <td>2565.000000</td>\n",
       "    </tr>\n",
       "    <tr>\n",
       "      <th>mean</th>\n",
       "      <td>70.645348</td>\n",
       "      <td>35.855169</td>\n",
       "      <td>1.614488</td>\n",
       "      <td>49.675695</td>\n",
       "      <td>0.100585</td>\n",
       "    </tr>\n",
       "    <tr>\n",
       "      <th>std</th>\n",
       "      <td>16.251521</td>\n",
       "      <td>10.278006</td>\n",
       "      <td>0.741606</td>\n",
       "      <td>11.843054</td>\n",
       "      <td>0.300837</td>\n",
       "    </tr>\n",
       "    <tr>\n",
       "      <th>min</th>\n",
       "      <td>11.220335</td>\n",
       "      <td>5.165296</td>\n",
       "      <td>-0.428188</td>\n",
       "      <td>10.719373</td>\n",
       "      <td>0.000000</td>\n",
       "    </tr>\n",
       "    <tr>\n",
       "      <th>25%</th>\n",
       "      <td>62.465821</td>\n",
       "      <td>29.616814</td>\n",
       "      <td>1.174148</td>\n",
       "      <td>42.325967</td>\n",
       "      <td>0.000000</td>\n",
       "    </tr>\n",
       "    <tr>\n",
       "      <th>50%</th>\n",
       "      <td>69.758044</td>\n",
       "      <td>35.373099</td>\n",
       "      <td>1.528688</td>\n",
       "      <td>49.787272</td>\n",
       "      <td>0.000000</td>\n",
       "    </tr>\n",
       "    <tr>\n",
       "      <th>75%</th>\n",
       "      <td>77.158727</td>\n",
       "      <td>41.191017</td>\n",
       "      <td>1.924403</td>\n",
       "      <td>56.960423</td>\n",
       "      <td>0.000000</td>\n",
       "    </tr>\n",
       "    <tr>\n",
       "      <th>max</th>\n",
       "      <td>149.480406</td>\n",
       "      <td>79.887734</td>\n",
       "      <td>4.990537</td>\n",
       "      <td>89.984718</td>\n",
       "      <td>1.000000</td>\n",
       "    </tr>\n",
       "  </tbody>\n",
       "</table>\n",
       "</div>"
      ],
      "text/plain": [
       "       temperature     pressure    vibration     humidity       faulty\n",
       "count  2565.000000  2565.000000  2565.000000  2565.000000  2565.000000\n",
       "mean     70.645348    35.855169     1.614488    49.675695     0.100585\n",
       "std      16.251521    10.278006     0.741606    11.843054     0.300837\n",
       "min      11.220335     5.165296    -0.428188    10.719373     0.000000\n",
       "25%      62.465821    29.616814     1.174148    42.325967     0.000000\n",
       "50%      69.758044    35.373099     1.528688    49.787272     0.000000\n",
       "75%      77.158727    41.191017     1.924403    56.960423     0.000000\n",
       "max     149.480406    79.887734     4.990537    89.984718     1.000000"
      ]
     },
     "execution_count": 2,
     "metadata": {},
     "output_type": "execute_result"
    }
   ],
   "source": [
    "df_turbina = df[df['equipment'] == 'Turbine']\n",
    "df_turbina.describe()"
   ]
  },
  {
   "cell_type": "code",
   "execution_count": 3,
   "id": "5550910f",
   "metadata": {},
   "outputs": [
    {
     "name": "stdout",
     "output_type": "stream",
     "text": [
      "            Tipo de dato  Valores nulos  Porcentaje nulos (%)\n",
      "temperature      float64              0                   0.0\n",
      "pressure         float64              0                   0.0\n",
      "vibration        float64              0                   0.0\n",
      "humidity         float64              0                   0.0\n",
      "equipment         object              0                   0.0\n",
      "location          object              0                   0.0\n",
      "faulty           float64              0                   0.0\n"
     ]
    }
   ],
   "source": [
    "# Crear lista de columnas de tabla informativa\n",
    "columnas_tabla = [col for col in df_turbina.columns ]\n",
    "\n",
    "# Crear un resumen con tipo de dato y cantidad de valores nulos\n",
    "resumen = pd.DataFrame({\n",
    "    'Tipo de dato': df_turbina[columnas_tabla].dtypes,\n",
    "    'Valores nulos': df_turbina[columnas_tabla].isnull().sum(),\n",
    "    'Porcentaje nulos (%)': df_turbina[columnas_tabla].isnull().mean() * 100\n",
    "})\n",
    "\n",
    "print(resumen)\n",
    "\n"
   ]
  },
  {
   "cell_type": "markdown",
   "id": "26a06170",
   "metadata": {},
   "source": [
    "Según nos muestra este análisis, nuestras columnas no contienen valores nulos (NaN) . Adicionalmente nos muestra el tipo de datos con el que contamos en cada una de ellas."
   ]
  },
  {
   "cell_type": "code",
   "execution_count": 4,
   "id": "20f7d308",
   "metadata": {},
   "outputs": [
    {
     "data": {
      "image/png": "[encoded data removed]",
      "text/plain": [
       "<Figure size 640x480 with 1 Axes>"
      ]
     },
     "metadata": {},
     "output_type": "display_data"
    }
   ],
   "source": [
    "import matplotlib.pyplot as plt \n",
    "import numpy as np\n",
    "\n",
    "\n",
    "x = df_turbina.index\n",
    "y = df_turbina['temperature']\n",
    "promedio_tempe= y.mean()\n",
    "\n",
    "plt.scatter(x, y) \n",
    "plt.title('Gráfico de Dispersión') \n",
    "plt.xlabel('Registros') \n",
    "plt.axhline(promedio_tempe, color='red', linestyle='--', label=f'Promedio: {promedio_tempe:.2f}')\n",
    "plt.ylabel('Temperaturas') \n",
    "plt.legend()\n",
    "plt.show()"
   ]
  },
  {
   "cell_type": "markdown",
   "id": "92923bbe",
   "metadata": {},
   "source": [
    "### DETECCIÓN Y FILTRADO DE OUTLIERS"
   ]
  },
  {
   "cell_type": "code",
   "execution_count": 5,
   "id": "a1f1d9b7",
   "metadata": {},
   "outputs": [
    {
     "name": "stderr",
     "output_type": "stream",
     "text": [
      "C:\\Users\\victoria.palma\\AppData\\Local\\Temp\\ipykernel_25016\\3601368039.py:5: FutureWarning: \n",
      "\n",
      "Passing `palette` without assigning `hue` is deprecated and will be removed in v0.14.0. Assign the `x` variable to `hue` and set `legend=False` for the same effect.\n",
      "\n",
      "  sns.boxplot(x='equipment', y='temperature', data=df_turbina, palette='Set2')\n"
     ]
    },
    {
     "data": {
      "image/png": "[encoded data removed]",
      "text/plain": [
       "<Figure size 640x480 with 1 Axes>"
      ]
     },
     "metadata": {},
     "output_type": "display_data"
    }
   ],
   "source": [
    "import seaborn as sns\n",
    "import matplotlib.pyplot as plt\n",
    "\n",
    "# Crear boxplot\n",
    "sns.boxplot(x='equipment', y='temperature', data=df_turbina, palette='Set2')\n",
    "\n",
    "# Personalización\n",
    "plt.title('Distribución de Temperaturas por Tipo de Equipo')\n",
    "plt.xlabel('Equipo')\n",
    "plt.ylabel('Temperatura')\n",
    "plt.grid(True)\n",
    "\n",
    "plt.show()\n"
   ]
  },
  {
   "cell_type": "markdown",
   "id": "e94c5f90",
   "metadata": {},
   "source": [
    "FILTRADO DE OUTLIERS: RANGO INTERCUARTIL"
   ]
  },
  {
   "cell_type": "markdown",
   "id": "e4d353f1",
   "metadata": {},
   "source": [
    "Para el entrenamiento del modelo, se precisa que el dataset no tenga outliers que puedan interferir en la predicción de las respuestas. Para ello, filtramos los valores outliers con la técnica de rango intercuartil."
   ]
  },
  {
   "cell_type": "code",
   "execution_count": 6,
   "id": "2c89438c",
   "metadata": {},
   "outputs": [
    {
     "name": "stdout",
     "output_type": "stream",
     "text": [
      "DF sin Outliers:\n",
      "      temperature   pressure  vibration   humidity equipment       location  \\\n",
      "0       58.180180  25.029278   0.606516  45.694907   Turbine        Atlanta   \n",
      "2       71.358594  27.276830   1.389198  58.954409   Turbine  San Francisco   \n",
      "13      84.711703  44.084965   1.359403  47.560971   Turbine  San Francisco   \n",
      "14      83.736585  53.447573   1.643008  25.525049   Turbine       New York   \n",
      "18      68.372071  21.394982   1.224774  47.377719   Turbine        Atlanta   \n",
      "...           ...        ...        ...        ...       ...            ...   \n",
      "7654    82.958718  33.590926   0.965781  55.287772   Turbine        Houston   \n",
      "7658    56.518230  43.456472   0.844428  56.114135   Turbine  San Francisco   \n",
      "7662    71.396537  27.255896   1.918917  65.060127   Turbine        Houston   \n",
      "7663    64.259174  32.131660   1.874060  39.069232   Turbine       New York   \n",
      "7665    62.179965  36.422638   1.565271  51.606218   Turbine        Atlanta   \n",
      "\n",
      "      faulty  \n",
      "0        0.0  \n",
      "2        0.0  \n",
      "13       0.0  \n",
      "14       0.0  \n",
      "18       0.0  \n",
      "...      ...  \n",
      "7654     0.0  \n",
      "7658     0.0  \n",
      "7662     0.0  \n",
      "7663     0.0  \n",
      "7665     0.0  \n",
      "\n",
      "[2403 rows x 7 columns]\n",
      "Cantidad de datos filtrados (datos sin outliers): 2403.00\n",
      "Porcentaje de datos sin outliers sobre el total de datos: 93.68%\n"
     ]
    }
   ],
   "source": [
    "#Calcular Q1 y Q3\n",
    "\n",
    "Q1=df_turbina['temperature'].quantile(0.25)\n",
    "Q3=df_turbina['temperature'].quantile(0.75)\n",
    "IQR = Q3 - Q1\n",
    "\n",
    "limiteinferior = Q1 - 1.5*IQR\n",
    "limitesuperior = Q3 + 1.5*IQR\n",
    "\n",
    "#filtrar para que quede sin outliers\n",
    "sin_outliers = df_turbina[(df_turbina['temperature'] >= limiteinferior) & (df_turbina['temperature'] <= limitesuperior)]\n",
    "\n",
    "print (\"DF sin Outliers:\")\n",
    "print(sin_outliers)\n",
    "\n",
    "\n",
    "\n",
    "# averiguamos qué porcentaje del total de nuestro dataset NO son outliers\n",
    "total_datos = len(df_turbina)\n",
    "total_sinoutliers = len(sin_outliers)\n",
    "\n",
    "porcentaje_outliers = (total_sinoutliers / total_datos) * 100\n",
    "\n",
    "print(f\"Cantidad de datos filtrados (datos sin outliers): {total_sinoutliers:.2f}\")\n",
    "print(f\"Porcentaje de datos sin outliers sobre el total de datos: {porcentaje_outliers:.2f}%\")"
   ]
  },
  {
   "cell_type": "markdown",
   "id": "a2cdf074",
   "metadata": {},
   "source": [
    "### IDENTIFICAR CARACTERÍSTICAS RELEVANTES"
   ]
  },
  {
   "cell_type": "markdown",
   "id": "42f9f6ac",
   "metadata": {},
   "source": [
    "Se debe identificar las variables físicas que más impactan en la variable \"fualty\" (falla/no falla) para luego entrenar el modelo de predicción en base a ellas."
   ]
  },
  {
   "cell_type": "code",
   "execution_count": 7,
   "id": "3fc5f725",
   "metadata": {},
   "outputs": [
    {
     "name": "stdout",
     "output_type": "stream",
     "text": [
      "             temperature  pressure  vibration  humidity    faulty\n",
      "temperature     1.000000  0.007042   0.021701 -0.054190  0.017392\n",
      "pressure        0.007042  1.000000   0.030267 -0.018260  0.127263\n",
      "vibration       0.021701  0.030267   1.000000  0.025531  0.345725\n",
      "humidity       -0.054190 -0.018260   0.025531  1.000000 -0.004729\n",
      "faulty          0.017392  0.127263   0.345725 -0.004729  1.000000\n"
     ]
    },
    {
     "data": {
      "image/png": "[encoded data removed]",
      "text/plain": [
       "<Figure size 640x480 with 2 Axes>"
      ]
     },
     "metadata": {},
     "output_type": "display_data"
    }
   ],
   "source": [
    "df_sin_equipment= sin_outliers.drop(columns=['equipment' , 'location'])\n",
    "correlation_matrix= df_sin_equipment.corr()\n",
    "print(correlation_matrix)\n",
    "import seaborn as sns\n",
    "sns.heatmap(correlation_matrix, annot=True)\n",
    "plt.show()"
   ]
  },
  {
   "cell_type": "markdown",
   "id": "3a1f536f",
   "metadata": {},
   "source": [
    "Como podemos observar en la matriz de confusión las variables que más influyen sobre el campo falla son : vibración, presión y temperatura. Esto también lo validaremos posteriormente con el método f_classifier."
   ]
  },
  {
   "cell_type": "code",
   "execution_count": 8,
   "id": "62ea8b8d",
   "metadata": {},
   "outputs": [
    {
     "name": "stdout",
     "output_type": "stream",
     "text": [
      "Index(['temperature', 'pressure', 'vibration', 'humidity', 'equipment',\n",
      "       'location', 'faulty'],\n",
      "      dtype='object')\n"
     ]
    }
   ],
   "source": [
    "print(df_turbina.columns) # A modo informativo, se detectan las columnas de nuestro dataset de turbina\n"
   ]
  },
  {
   "cell_type": "code",
   "execution_count": 9,
   "id": "32e1fdc8",
   "metadata": {},
   "outputs": [
    {
     "name": "stdout",
     "output_type": "stream",
     "text": [
      "\n",
      "Características seleccionadas:\n",
      "- temperature\n",
      "- pressure\n",
      "- vibration\n"
     ]
    }
   ],
   "source": [
    "import seaborn as sns\n",
    "from sklearn.feature_selection import SelectKBest, f_classif\n",
    "\n",
    "# 1. Definir X (solo columnas numéricas) e y\n",
    "columnas_numericas = ['temperature', 'pressure', 'vibration', 'humidity']\n",
    "X_car = df_turbina[columnas_numericas]\n",
    "y_car = df_turbina['faulty']\n",
    "\n",
    "# 2. Aplicar SelectKBest con f_classif\n",
    "k = 3  # Número de características a seleccionar\n",
    "selector = SelectKBest(score_func=f_classif, k=k)\n",
    "X_seleccionado = selector.fit_transform(X_car, y_car)\n",
    "\n",
    "# 3. Obtener nombres de características seleccionadas\n",
    "caracteristicas_seleccionadas = X_car.columns[selector.get_support()].tolist()\n",
    "\n",
    "# 4. Mostrar resultados\n",
    "print(\"\\nCaracterísticas seleccionadas:\")\n",
    "for caracteristica in caracteristicas_seleccionadas:\n",
    "    print(f\"- {caracteristica}\")\n"
   ]
  },
  {
   "cell_type": "markdown",
   "id": "e6731409",
   "metadata": {},
   "source": [
    "Se corrobora que las 3 variables físicas de interés,son las que se mencionaban en la matriz de confusión"
   ]
  },
  {
   "cell_type": "markdown",
   "id": "457bd84f",
   "metadata": {},
   "source": [
    "### CREACIÓN DEL MODELO DE PREDICCIÓN"
   ]
  },
  {
   "cell_type": "markdown",
   "id": "c4c09415",
   "metadata": {},
   "source": [
    "Se evaluará si el modelo de predicción de regresión logística o random forest se ajusta mejor. Ambos son modelos de aprendizaje supervisado."
   ]
  },
  {
   "cell_type": "markdown",
   "id": "5ee0d60c",
   "metadata": {},
   "source": [
    "REGRESIÓN LOGÍSTICA"
   ]
  },
  {
   "cell_type": "code",
   "execution_count": 10,
   "id": "75d7d899",
   "metadata": {},
   "outputs": [
    {
     "name": "stdout",
     "output_type": "stream",
     "text": [
      "Métricas del modelo de Regresión Logística:\n",
      "Accuracy       : 0.9474\n",
      "Precision      : 0.9615\n",
      "Recall         : 0.4902\n",
      "F1-score       : 0.6494\n"
     ]
    },
    {
     "data": {
      "image/png": "[encoded data removed]",
      "text/plain": [
       "<Figure size 640x480 with 2 Axes>"
      ]
     },
     "metadata": {},
     "output_type": "display_data"
    },
    {
     "name": "stdout",
     "output_type": "stream",
     "text": [
      "Classification Report:\n",
      "              precision    recall  f1-score   support\n",
      "\n",
      "         0.0       0.95      1.00      0.97       462\n",
      "         1.0       0.96      0.49      0.65        51\n",
      "\n",
      "    accuracy                           0.95       513\n",
      "   macro avg       0.95      0.74      0.81       513\n",
      "weighted avg       0.95      0.95      0.94       513\n",
      "\n"
     ]
    }
   ],
   "source": [
    "from sklearn.model_selection import train_test_split\n",
    "from sklearn.linear_model import LogisticRegression\n",
    "from sklearn.metrics import accuracy_score, precision_score, recall_score, f1_score, confusion_matrix, classification_report\n",
    "import seaborn as sns\n",
    "import matplotlib.pyplot as plt\n",
    "\n",
    "# Dividir en train/test\n",
    "X_train, X_test, y_train, y_test = train_test_split(X_car, y_car, test_size=0.2, random_state=42)\n",
    "\n",
    "# Entrenar modelo de regresión logística\n",
    "modelo = LogisticRegression(max_iter=1000)\n",
    "modelo.fit(X_train, y_train)\n",
    "\n",
    "# Predecir\n",
    "y_pred = modelo.predict(X_test)\n",
    "\n",
    "# Calcular métricas\n",
    "print(\"Métricas del modelo de Regresión Logística:\")\n",
    "print(f\"Accuracy       : {accuracy_score(y_test, y_pred):.4f}\")\n",
    "print(f\"Precision      : {precision_score(y_test, y_pred):.4f}\")\n",
    "print(f\"Recall         : {recall_score(y_test, y_pred):.4f}\")\n",
    "print(f\"F1-score       : {f1_score(y_test, y_pred):.4f}\")\n",
    "\n",
    "# Matriz de confusión\n",
    "cm = confusion_matrix(y_test, y_pred)\n",
    "sns.heatmap(cm, annot=True, fmt='d', cmap='Blues')\n",
    "plt.title(\"Matriz de Confusión\")\n",
    "plt.xlabel(\"Predicho\")\n",
    "plt.ylabel(\"Real\")\n",
    "plt.show()\n",
    "\n",
    "# Reporte completo\n",
    "print(\"Classification Report:\")\n",
    "print(classification_report(y_test, y_pred))\n"
   ]
  },
  {
   "cell_type": "markdown",
   "id": "1c0b6029",
   "metadata": {},
   "source": [
    "RANDOM FOREST"
   ]
  },
  {
   "cell_type": "code",
   "execution_count": 11,
   "id": "932a29b5",
   "metadata": {},
   "outputs": [
    {
     "name": "stdout",
     "output_type": "stream",
     "text": [
      "Métricas para Random Forest:\n",
      "Accuracy : 0.9786\n",
      "Precision: 0.9167\n",
      "Recall   : 0.8627\n",
      "F1-score : 0.8889\n"
     ]
    },
    {
     "data": {
      "image/png": "[encoded data removed]",
      "text/plain": [
       "<Figure size 640x480 with 2 Axes>"
      ]
     },
     "metadata": {},
     "output_type": "display_data"
    },
    {
     "name": "stdout",
     "output_type": "stream",
     "text": [
      "Reporte de clasificación:\n",
      "              precision    recall  f1-score   support\n",
      "\n",
      "         0.0       0.98      0.99      0.99       462\n",
      "         1.0       0.92      0.86      0.89        51\n",
      "\n",
      "    accuracy                           0.98       513\n",
      "   macro avg       0.95      0.93      0.94       513\n",
      "weighted avg       0.98      0.98      0.98       513\n",
      "\n"
     ]
    }
   ],
   "source": [
    "from sklearn.model_selection import train_test_split\n",
    "from sklearn.ensemble import RandomForestClassifier\n",
    "from sklearn.metrics import accuracy_score, precision_score, recall_score, f1_score, confusion_matrix, classification_report\n",
    "import seaborn as sns\n",
    "import matplotlib.pyplot as plt\n",
    "\n",
    "\n",
    "# Dividir en entrenamiento y prueba\n",
    "X_train, X_test, y_train, y_test = train_test_split(X_car, y_car, test_size=0.2, random_state=42)\n",
    "\n",
    "# Entrenar Random Forest\n",
    "modelo = RandomForestClassifier(random_state=42)\n",
    "modelo.fit(X_train, y_train)\n",
    "\n",
    "# Predecir\n",
    "y_pred = modelo.predict(X_test)\n",
    "\n",
    "# Métricas\n",
    "print(\"Métricas para Random Forest:\")\n",
    "print(f\"Accuracy : {accuracy_score(y_test, y_pred):.4f}\")\n",
    "print(f\"Precision: {precision_score(y_test, y_pred):.4f}\")\n",
    "print(f\"Recall   : {recall_score(y_test, y_pred):.4f}\")\n",
    "print(f\"F1-score : {f1_score(y_test, y_pred):.4f}\")\n",
    "\n",
    "# Matriz de Confusión\n",
    "cm = confusion_matrix(y_test, y_pred)\n",
    "sns.heatmap(cm, annot=True, fmt='d', cmap='Greens')\n",
    "plt.title(\"Matriz de Confusión - Random Forest\")\n",
    "plt.xlabel(\"Predicción\")\n",
    "plt.ylabel(\"Real\")\n",
    "plt.show()\n",
    "\n",
    "# Reporte completo\n",
    "print(\"Reporte de clasificación:\")\n",
    "print(classification_report(y_test, y_pred))"
   ]
  },
  {
   "cell_type": "markdown",
   "id": "87cf43e8",
   "metadata": {},
   "source": [
    "RESUMEN COMPARANDO AMBOS MÉTODOS"
   ]
  },
  {
   "cell_type": "markdown",
   "id": "61f42357",
   "metadata": {},
   "source": [
    "El modelo de random forest es el que mejor se adapta a nuestra dataset. Tiene un Accuracy de 0.98 contra 0.95 de regresión logística."
   ]
  },
  {
   "cell_type": "markdown",
   "id": "aaf9f809",
   "metadata": {},
   "source": [
    "| Métrica                 | Qué mide?                                                     |  Random Forest          |   Regresión Logística  |   \n",
    "| ----------------------- | ------------------------------------------------------------- |------------------------ |------------------------|\n",
    "| **Accuracy**            | Proporción de predicciones correctas                          |  0.9786                   |    0.9474                    |   \n",
    "| **Precision**           | ¿Qué tan confiable es el modelo cuando dice “positivo”? |  0.9167              | 0.9615                        |   \n",
    "| **Recall**              | ¿Qué tan bien encuentra el modelo los positivos reales?                  |  0.8627              |   0.4902                     |   \n",
    "| **F1-score**            | Balance entre precisión y recall                              |  0.8889              |   0.6494                     |   \n"
   ]
  },
  {
   "cell_type": "markdown",
   "id": "0391295c",
   "metadata": {},
   "source": [
    "## DATA SCIENCE 2 INCLUSIÓN DE API"
   ]
  },
  {
   "cell_type": "code",
   "execution_count": 12,
   "id": "19308ee4",
   "metadata": {},
   "outputs": [
    {
     "name": "stdout",
     "output_type": "stream",
     "text": [
      "        location  Cantidad\n",
      "0        Atlanta       540\n",
      "1        Chicago       501\n",
      "2        Houston       527\n",
      "3       New York       498\n",
      "4  San Francisco       499\n",
      "    temperature   pressure  vibration   humidity equipment       location  \\\n",
      "0     58.180180  25.029278   0.606516  45.694907   Turbine        Atlanta   \n",
      "2     71.358594  27.276830   1.389198  58.954409   Turbine  San Francisco   \n",
      "7    148.923369  22.214121   0.109819  39.944953   Turbine  San Francisco   \n",
      "13    84.711703  44.084965   1.359403  47.560971   Turbine  San Francisco   \n",
      "14    83.736585  53.447573   1.643008  25.525049   Turbine       New York   \n",
      "\n",
      "    faulty  \n",
      "0      0.0  \n",
      "2      0.0  \n",
      "7      1.0  \n",
      "13     0.0  \n",
      "14     0.0  \n"
     ]
    }
   ],
   "source": [
    "df_turbina2 = df[df['equipment'] == 'Turbine']\n",
    "df_turbina2.describe()\n",
    "conteo_dfturbina2 = df_turbina2.groupby('location').size().reset_index(name='Cantidad')\n",
    "print(conteo_dfturbina2)\n",
    "print(df_turbina2.head())"
   ]
  },
  {
   "cell_type": "code",
   "execution_count": 13,
   "id": "ac5c2fc0",
   "metadata": {},
   "outputs": [
    {
     "name": "stdout",
     "output_type": "stream",
     "text": [
      "    temperature   pressure  vibration   humidity equipment location  faulty\n",
      "0     58.180180  25.029278   0.606516  45.694907   Turbine  Atlanta     0.0\n",
      "18    68.372071  21.394982   1.224774  47.377719   Turbine  Atlanta     0.0\n",
      "44    69.016902  53.664284   1.380225  70.495073   Turbine  Atlanta     0.0\n",
      "49    83.641404  25.740674   1.257435  42.644693   Turbine  Atlanta     0.0\n",
      "51    61.255644  32.126947   1.987554  58.671531   Turbine  Atlanta     0.0\n",
      "   faulty  Cantidad\n",
      "0     0.0       486\n",
      "1     1.0        54\n"
     ]
    }
   ],
   "source": [
    "df_turbina_atlanta = df[(df['equipment'] == 'Turbine') & (df['location'] == 'Atlanta')]\n",
    "print(df_turbina_atlanta .head())\n",
    "\n",
    "conteo_dfturbina_atlanta = df_turbina_atlanta.groupby('faulty').size().reset_index(name='Cantidad')\n",
    "print(conteo_dfturbina_atlanta)"
   ]
  },
  {
   "cell_type": "code",
   "execution_count": 2,
   "id": "69b84386",
   "metadata": {},
   "outputs": [
    {
     "name": "stdout",
     "output_type": "stream",
     "text": [
      "           Fecha_Hora  Temperatura_2m\n",
      "0 2025-09-01 01:00:00       21.752501\n",
      "1 2025-09-01 02:00:00       21.452499\n",
      "2 2025-09-01 03:00:00       21.102501\n",
      "3 2025-09-01 04:00:00       20.652500\n",
      "4 2025-09-01 05:00:00       20.202499\n",
      "\n",
      "Total de registros: 720\n"
     ]
    }
   ],
   "source": [
    "import openmeteo_requests\n",
    "import pandas as pd\n",
    "from datetime import datetime, timedelta\n",
    "\n",
    "# Crear cliente\n",
    "openmeteo = openmeteo_requests.Client()\n",
    "\n",
    "# Parámetros de la API\n",
    "url = \"https://api.open-meteo.com/v1/forecast\"\n",
    "params = {\n",
    "    \"latitude\": 33.7490,\n",
    "    \"longitude\": -84.3880,\n",
    "    \"hourly\": [\"temperature_2m\"],\n",
    "    \"start_date\": \"2025-09-01\",\n",
    "    \"end_date\": \"2025-09-30\",\n",
    "    \"timezone\": \"America/New_York\"\n",
    "}\n",
    "\n",
    "# Llamada a la API\n",
    "responses = openmeteo.weather_api(url, params=params)\n",
    "response = responses[0]\n",
    "\n",
    "# Extraer datos horarios correctamente\n",
    "hourly = response.Hourly()\n",
    "\n",
    "# Extraer valores de temperatura\n",
    "temperaturas = hourly.Variables(0).ValuesAsNumpy()\n",
    "\n",
    "# Generar las fechas y horas\n",
    "start_time = datetime.fromtimestamp(response.Hourly().Time(), tz=None)\n",
    "interval = hourly.Interval()  # generalmente 3600 segundos (1 hora)\n",
    "fechas = [start_time + timedelta(seconds=i * interval) for i in range(len(temperaturas))]\n",
    "\n",
    "# Crear DataFrame\n",
    "df_temp = pd.DataFrame({\n",
    "    \"Fecha_Hora\": fechas,\n",
    "    \"Temperatura_2m\": temperaturas\n",
    "})\n",
    "\n",
    "print(df_temp.head())\n",
    "print(f\"\\nTotal de registros: {len(df_temp)}\")\n",
    "\n",
    "# (Opcional) Guardar CSV\n",
    "# df_temp.to_csv(\"temperaturas_atlanta_sep2026.csv\", index=False)\n"
   ]
  }
 ],
 "metadata": {
  "kernelspec": {
   "display_name": "Python 3",
   "language": "python",
   "name": "python3"
  },
  "language_info": {
   "codemirror_mode": {
    "name": "ipython",
    "version": 3
   },
   "file_extension": ".py",
   "mimetype": "text/x-python",
   "name": "python",
   "nbconvert_exporter": "python",
   "pygments_lexer": "ipython3",
   "version": "3.11.9"
  }
 },
 "nbformat": 4,
 "nbformat_minor": 5
}
